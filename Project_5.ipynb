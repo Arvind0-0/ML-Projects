{
  "nbformat": 4,
  "nbformat_minor": 0,
  "metadata": {
    "colab": {
      "provenance": [],
      "authorship_tag": "ABX9TyML6bRuUuf8b03l6bL9YJLu",
      "include_colab_link": true
    },
    "kernelspec": {
      "name": "python3",
      "display_name": "Python 3"
    },
    "language_info": {
      "name": "python"
    }
  },
  "cells": [
    {
      "cell_type": "markdown",
      "metadata": {
        "id": "view-in-github",
        "colab_type": "text"
      },
      "source": [
        "<a href=\"https://colab.research.google.com/github/Arvind0-0/ML-Projects/blob/main/Project_5.ipynb\" target=\"_parent\"><img src=\"https://colab.research.google.com/assets/colab-badge.svg\" alt=\"Open In Colab\"/></a>"
      ]
    },
    {
      "cell_type": "markdown",
      "source": [
        "Import data libraries\n"
      ],
      "metadata": {
        "id": "TXWIXlczPvNp"
      }
    },
    {
      "cell_type": "code",
      "execution_count": 3,
      "metadata": {
        "id": "P9lxgthzPgWO"
      },
      "outputs": [],
      "source": [
        "\n",
        "import numpy as np \n",
        "import pandas as pd \n",
        "import seaborn as sns \n",
        "import matplotlib.pyplot as plt\n",
        "from xgboost import XGBClassifier\n",
        "from sklearn.model_selection import train_test_split\n",
        "from imblearn.over_sampling import RandomOverSampler\n",
        "from collections import Counter\n",
        "from sklearn.preprocessing import OrdinalEncoder\n",
        "from sklearn.pipeline import Pipeline\n",
        "from sklearn.compose import ColumnTransformer\n",
        "from sklearn.tree import DecisionTreeClassifier\n",
        "from sklearn.model_selection import GridSearchCV\n",
        "from sklearn.tree import DecisionTreeClassifier\n",
        "from sklearn.metrics import plot_roc_curve\n",
        "from sklearn.dummy import DummyClassifier\n",
        "from sklearn.metrics import accuracy_score\n",
        "from sklearn.metrics import recall_score\n",
        "from sklearn.metrics import precision_score\n",
        "from sklearn.metrics import f1_score\n",
        "from sklearn.metrics import classification_report\n",
        "from sklearn.ensemble import RandomForestClassifier\n",
        "from sklearn.model_selection import GridSearchCV\n",
        "from sklearn.linear_model import LogisticRegression\n",
        "from sklearn.neighbors import KNeighborsClassifier\n",
        "from warnings import simplefilter\n",
        "simplefilter(action='ignore', category=FutureWarning)"
      ]
    },
    {
      "cell_type": "code",
      "source": [
        "train_data = pd.read_csv('https://www.dropbox.com/s/8pnfe5bnbe9jglt/JobChangeofDataScientists.csv?dl=1') \n"
      ],
      "metadata": {
        "id": "Re6PWgmHP03a"
      },
      "execution_count": 4,
      "outputs": []
    },
    {
      "cell_type": "code",
      "source": [
        "train_data.head(300)\n"
      ],
      "metadata": {
        "colab": {
          "base_uri": "https://localhost:8080/",
          "height": 488
        },
        "id": "wBIUOdDQP3j-",
        "outputId": "3615b088-64eb-4b23-8e2c-c4e64823c641"
      },
      "execution_count": 5,
      "outputs": [
        {
          "output_type": "execute_result",
          "data": {
            "text/plain": [
              "     enrollee_id      city  city_development_index  gender  \\\n",
              "0           8949  city_103                   0.920    Male   \n",
              "1          29725   city_40                   0.776    Male   \n",
              "2          11561   city_21                   0.624     NaN   \n",
              "3          33241  city_115                   0.789     NaN   \n",
              "4            666  city_162                   0.767    Male   \n",
              "..           ...       ...                     ...     ...   \n",
              "295        12934  city_114                   0.926    Male   \n",
              "296        30400   city_73                   0.754    Male   \n",
              "297        26419   city_67                   0.855  Female   \n",
              "298         4188  city_103                   0.920     NaN   \n",
              "299        12117   city_74                   0.579    Male   \n",
              "\n",
              "         relevent_experience enrolled_university education_level  \\\n",
              "0    Has relevent experience       no_enrollment        Graduate   \n",
              "1     No relevent experience       no_enrollment        Graduate   \n",
              "2     No relevent experience    Full time course        Graduate   \n",
              "3     No relevent experience                 NaN        Graduate   \n",
              "4    Has relevent experience       no_enrollment         Masters   \n",
              "..                       ...                 ...             ...   \n",
              "295  Has relevent experience    Part time course        Graduate   \n",
              "296  Has relevent experience       no_enrollment        Graduate   \n",
              "297  Has relevent experience    Full time course        Graduate   \n",
              "298  Has relevent experience       no_enrollment        Graduate   \n",
              "299  Has relevent experience       no_enrollment        Graduate   \n",
              "\n",
              "    major_discipline experience company_size    company_type last_new_job  \\\n",
              "0               STEM        >20          NaN             NaN            1   \n",
              "1               STEM         15        50-99         Pvt Ltd           >4   \n",
              "2               STEM          5          NaN             NaN        never   \n",
              "3    Business Degree         <1          NaN         Pvt Ltd        never   \n",
              "4               STEM        >20        50-99  Funded Startup            4   \n",
              "..               ...        ...          ...             ...          ...   \n",
              "295             STEM         19      500-999         Pvt Ltd            2   \n",
              "296             STEM          5       10000+         Pvt Ltd            1   \n",
              "297             STEM          6    1000-4999         Pvt Ltd            2   \n",
              "298             STEM         20      100-500         Pvt Ltd           >4   \n",
              "299             STEM          4       Oct-49         Pvt Ltd            1   \n",
              "\n",
              "     training_hours  target  \n",
              "0                36       1  \n",
              "1                47       0  \n",
              "2                83       0  \n",
              "3                52       1  \n",
              "4                 8       0  \n",
              "..              ...     ...  \n",
              "295              64       0  \n",
              "296              51       0  \n",
              "297              41       0  \n",
              "298             150       0  \n",
              "299             320       0  \n",
              "\n",
              "[300 rows x 14 columns]"
            ],
            "text/html": [
              "\n",
              "  <div id=\"df-b952752e-1bd8-491a-9d98-5da1acfe0914\">\n",
              "    <div class=\"colab-df-container\">\n",
              "      <div>\n",
              "<style scoped>\n",
              "    .dataframe tbody tr th:only-of-type {\n",
              "        vertical-align: middle;\n",
              "    }\n",
              "\n",
              "    .dataframe tbody tr th {\n",
              "        vertical-align: top;\n",
              "    }\n",
              "\n",
              "    .dataframe thead th {\n",
              "        text-align: right;\n",
              "    }\n",
              "</style>\n",
              "<table border=\"1\" class=\"dataframe\">\n",
              "  <thead>\n",
              "    <tr style=\"text-align: right;\">\n",
              "      <th></th>\n",
              "      <th>enrollee_id</th>\n",
              "      <th>city</th>\n",
              "      <th>city_development_index</th>\n",
              "      <th>gender</th>\n",
              "      <th>relevent_experience</th>\n",
              "      <th>enrolled_university</th>\n",
              "      <th>education_level</th>\n",
              "      <th>major_discipline</th>\n",
              "      <th>experience</th>\n",
              "      <th>company_size</th>\n",
              "      <th>company_type</th>\n",
              "      <th>last_new_job</th>\n",
              "      <th>training_hours</th>\n",
              "      <th>target</th>\n",
              "    </tr>\n",
              "  </thead>\n",
              "  <tbody>\n",
              "    <tr>\n",
              "      <th>0</th>\n",
              "      <td>8949</td>\n",
              "      <td>city_103</td>\n",
              "      <td>0.920</td>\n",
              "      <td>Male</td>\n",
              "      <td>Has relevent experience</td>\n",
              "      <td>no_enrollment</td>\n",
              "      <td>Graduate</td>\n",
              "      <td>STEM</td>\n",
              "      <td>&gt;20</td>\n",
              "      <td>NaN</td>\n",
              "      <td>NaN</td>\n",
              "      <td>1</td>\n",
              "      <td>36</td>\n",
              "      <td>1</td>\n",
              "    </tr>\n",
              "    <tr>\n",
              "      <th>1</th>\n",
              "      <td>29725</td>\n",
              "      <td>city_40</td>\n",
              "      <td>0.776</td>\n",
              "      <td>Male</td>\n",
              "      <td>No relevent experience</td>\n",
              "      <td>no_enrollment</td>\n",
              "      <td>Graduate</td>\n",
              "      <td>STEM</td>\n",
              "      <td>15</td>\n",
              "      <td>50-99</td>\n",
              "      <td>Pvt Ltd</td>\n",
              "      <td>&gt;4</td>\n",
              "      <td>47</td>\n",
              "      <td>0</td>\n",
              "    </tr>\n",
              "    <tr>\n",
              "      <th>2</th>\n",
              "      <td>11561</td>\n",
              "      <td>city_21</td>\n",
              "      <td>0.624</td>\n",
              "      <td>NaN</td>\n",
              "      <td>No relevent experience</td>\n",
              "      <td>Full time course</td>\n",
              "      <td>Graduate</td>\n",
              "      <td>STEM</td>\n",
              "      <td>5</td>\n",
              "      <td>NaN</td>\n",
              "      <td>NaN</td>\n",
              "      <td>never</td>\n",
              "      <td>83</td>\n",
              "      <td>0</td>\n",
              "    </tr>\n",
              "    <tr>\n",
              "      <th>3</th>\n",
              "      <td>33241</td>\n",
              "      <td>city_115</td>\n",
              "      <td>0.789</td>\n",
              "      <td>NaN</td>\n",
              "      <td>No relevent experience</td>\n",
              "      <td>NaN</td>\n",
              "      <td>Graduate</td>\n",
              "      <td>Business Degree</td>\n",
              "      <td>&lt;1</td>\n",
              "      <td>NaN</td>\n",
              "      <td>Pvt Ltd</td>\n",
              "      <td>never</td>\n",
              "      <td>52</td>\n",
              "      <td>1</td>\n",
              "    </tr>\n",
              "    <tr>\n",
              "      <th>4</th>\n",
              "      <td>666</td>\n",
              "      <td>city_162</td>\n",
              "      <td>0.767</td>\n",
              "      <td>Male</td>\n",
              "      <td>Has relevent experience</td>\n",
              "      <td>no_enrollment</td>\n",
              "      <td>Masters</td>\n",
              "      <td>STEM</td>\n",
              "      <td>&gt;20</td>\n",
              "      <td>50-99</td>\n",
              "      <td>Funded Startup</td>\n",
              "      <td>4</td>\n",
              "      <td>8</td>\n",
              "      <td>0</td>\n",
              "    </tr>\n",
              "    <tr>\n",
              "      <th>...</th>\n",
              "      <td>...</td>\n",
              "      <td>...</td>\n",
              "      <td>...</td>\n",
              "      <td>...</td>\n",
              "      <td>...</td>\n",
              "      <td>...</td>\n",
              "      <td>...</td>\n",
              "      <td>...</td>\n",
              "      <td>...</td>\n",
              "      <td>...</td>\n",
              "      <td>...</td>\n",
              "      <td>...</td>\n",
              "      <td>...</td>\n",
              "      <td>...</td>\n",
              "    </tr>\n",
              "    <tr>\n",
              "      <th>295</th>\n",
              "      <td>12934</td>\n",
              "      <td>city_114</td>\n",
              "      <td>0.926</td>\n",
              "      <td>Male</td>\n",
              "      <td>Has relevent experience</td>\n",
              "      <td>Part time course</td>\n",
              "      <td>Graduate</td>\n",
              "      <td>STEM</td>\n",
              "      <td>19</td>\n",
              "      <td>500-999</td>\n",
              "      <td>Pvt Ltd</td>\n",
              "      <td>2</td>\n",
              "      <td>64</td>\n",
              "      <td>0</td>\n",
              "    </tr>\n",
              "    <tr>\n",
              "      <th>296</th>\n",
              "      <td>30400</td>\n",
              "      <td>city_73</td>\n",
              "      <td>0.754</td>\n",
              "      <td>Male</td>\n",
              "      <td>Has relevent experience</td>\n",
              "      <td>no_enrollment</td>\n",
              "      <td>Graduate</td>\n",
              "      <td>STEM</td>\n",
              "      <td>5</td>\n",
              "      <td>10000+</td>\n",
              "      <td>Pvt Ltd</td>\n",
              "      <td>1</td>\n",
              "      <td>51</td>\n",
              "      <td>0</td>\n",
              "    </tr>\n",
              "    <tr>\n",
              "      <th>297</th>\n",
              "      <td>26419</td>\n",
              "      <td>city_67</td>\n",
              "      <td>0.855</td>\n",
              "      <td>Female</td>\n",
              "      <td>Has relevent experience</td>\n",
              "      <td>Full time course</td>\n",
              "      <td>Graduate</td>\n",
              "      <td>STEM</td>\n",
              "      <td>6</td>\n",
              "      <td>1000-4999</td>\n",
              "      <td>Pvt Ltd</td>\n",
              "      <td>2</td>\n",
              "      <td>41</td>\n",
              "      <td>0</td>\n",
              "    </tr>\n",
              "    <tr>\n",
              "      <th>298</th>\n",
              "      <td>4188</td>\n",
              "      <td>city_103</td>\n",
              "      <td>0.920</td>\n",
              "      <td>NaN</td>\n",
              "      <td>Has relevent experience</td>\n",
              "      <td>no_enrollment</td>\n",
              "      <td>Graduate</td>\n",
              "      <td>STEM</td>\n",
              "      <td>20</td>\n",
              "      <td>100-500</td>\n",
              "      <td>Pvt Ltd</td>\n",
              "      <td>&gt;4</td>\n",
              "      <td>150</td>\n",
              "      <td>0</td>\n",
              "    </tr>\n",
              "    <tr>\n",
              "      <th>299</th>\n",
              "      <td>12117</td>\n",
              "      <td>city_74</td>\n",
              "      <td>0.579</td>\n",
              "      <td>Male</td>\n",
              "      <td>Has relevent experience</td>\n",
              "      <td>no_enrollment</td>\n",
              "      <td>Graduate</td>\n",
              "      <td>STEM</td>\n",
              "      <td>4</td>\n",
              "      <td>Oct-49</td>\n",
              "      <td>Pvt Ltd</td>\n",
              "      <td>1</td>\n",
              "      <td>320</td>\n",
              "      <td>0</td>\n",
              "    </tr>\n",
              "  </tbody>\n",
              "</table>\n",
              "<p>300 rows × 14 columns</p>\n",
              "</div>\n",
              "      <button class=\"colab-df-convert\" onclick=\"convertToInteractive('df-b952752e-1bd8-491a-9d98-5da1acfe0914')\"\n",
              "              title=\"Convert this dataframe to an interactive table.\"\n",
              "              style=\"display:none;\">\n",
              "        \n",
              "  <svg xmlns=\"http://www.w3.org/2000/svg\" height=\"24px\"viewBox=\"0 0 24 24\"\n",
              "       width=\"24px\">\n",
              "    <path d=\"M0 0h24v24H0V0z\" fill=\"none\"/>\n",
              "    <path d=\"M18.56 5.44l.94 2.06.94-2.06 2.06-.94-2.06-.94-.94-2.06-.94 2.06-2.06.94zm-11 1L8.5 8.5l.94-2.06 2.06-.94-2.06-.94L8.5 2.5l-.94 2.06-2.06.94zm10 10l.94 2.06.94-2.06 2.06-.94-2.06-.94-.94-2.06-.94 2.06-2.06.94z\"/><path d=\"M17.41 7.96l-1.37-1.37c-.4-.4-.92-.59-1.43-.59-.52 0-1.04.2-1.43.59L10.3 9.45l-7.72 7.72c-.78.78-.78 2.05 0 2.83L4 21.41c.39.39.9.59 1.41.59.51 0 1.02-.2 1.41-.59l7.78-7.78 2.81-2.81c.8-.78.8-2.07 0-2.86zM5.41 20L4 18.59l7.72-7.72 1.47 1.35L5.41 20z\"/>\n",
              "  </svg>\n",
              "      </button>\n",
              "      \n",
              "  <style>\n",
              "    .colab-df-container {\n",
              "      display:flex;\n",
              "      flex-wrap:wrap;\n",
              "      gap: 12px;\n",
              "    }\n",
              "\n",
              "    .colab-df-convert {\n",
              "      background-color: #E8F0FE;\n",
              "      border: none;\n",
              "      border-radius: 50%;\n",
              "      cursor: pointer;\n",
              "      display: none;\n",
              "      fill: #1967D2;\n",
              "      height: 32px;\n",
              "      padding: 0 0 0 0;\n",
              "      width: 32px;\n",
              "    }\n",
              "\n",
              "    .colab-df-convert:hover {\n",
              "      background-color: #E2EBFA;\n",
              "      box-shadow: 0px 1px 2px rgba(60, 64, 67, 0.3), 0px 1px 3px 1px rgba(60, 64, 67, 0.15);\n",
              "      fill: #174EA6;\n",
              "    }\n",
              "\n",
              "    [theme=dark] .colab-df-convert {\n",
              "      background-color: #3B4455;\n",
              "      fill: #D2E3FC;\n",
              "    }\n",
              "\n",
              "    [theme=dark] .colab-df-convert:hover {\n",
              "      background-color: #434B5C;\n",
              "      box-shadow: 0px 1px 3px 1px rgba(0, 0, 0, 0.15);\n",
              "      filter: drop-shadow(0px 1px 2px rgba(0, 0, 0, 0.3));\n",
              "      fill: #FFFFFF;\n",
              "    }\n",
              "  </style>\n",
              "\n",
              "      <script>\n",
              "        const buttonEl =\n",
              "          document.querySelector('#df-b952752e-1bd8-491a-9d98-5da1acfe0914 button.colab-df-convert');\n",
              "        buttonEl.style.display =\n",
              "          google.colab.kernel.accessAllowed ? 'block' : 'none';\n",
              "\n",
              "        async function convertToInteractive(key) {\n",
              "          const element = document.querySelector('#df-b952752e-1bd8-491a-9d98-5da1acfe0914');\n",
              "          const dataTable =\n",
              "            await google.colab.kernel.invokeFunction('convertToInteractive',\n",
              "                                                     [key], {});\n",
              "          if (!dataTable) return;\n",
              "\n",
              "          const docLinkHtml = 'Like what you see? Visit the ' +\n",
              "            '<a target=\"_blank\" href=https://colab.research.google.com/notebooks/data_table.ipynb>data table notebook</a>'\n",
              "            + ' to learn more about interactive tables.';\n",
              "          element.innerHTML = '';\n",
              "          dataTable['output_type'] = 'display_data';\n",
              "          await google.colab.output.renderOutput(dataTable, element);\n",
              "          const docLink = document.createElement('div');\n",
              "          docLink.innerHTML = docLinkHtml;\n",
              "          element.appendChild(docLink);\n",
              "        }\n",
              "      </script>\n",
              "    </div>\n",
              "  </div>\n",
              "  "
            ]
          },
          "metadata": {},
          "execution_count": 5
        }
      ]
    },
    {
      "cell_type": "code",
      "source": [
        "train_data.shape\n"
      ],
      "metadata": {
        "colab": {
          "base_uri": "https://localhost:8080/"
        },
        "id": "rA7YBAmuQB1A",
        "outputId": "e8eb8fe6-32d9-4e03-9383-7bb785bc0533"
      },
      "execution_count": 6,
      "outputs": [
        {
          "output_type": "execute_result",
          "data": {
            "text/plain": [
              "(19158, 14)"
            ]
          },
          "metadata": {},
          "execution_count": 6
        }
      ]
    },
    {
      "cell_type": "code",
      "source": [
        "print(\"Missing values in the train dataset:\\n\\n\",train_data.isna().sum())\n"
      ],
      "metadata": {
        "colab": {
          "base_uri": "https://localhost:8080/"
        },
        "id": "KtGGjyTVQL4T",
        "outputId": "c43894ac-bc80-4274-affc-29ff5a1576c4"
      },
      "execution_count": 7,
      "outputs": [
        {
          "output_type": "stream",
          "name": "stdout",
          "text": [
            "Missing values in the train dataset:\n",
            "\n",
            " enrollee_id                  0\n",
            "city                         0\n",
            "city_development_index       0\n",
            "gender                    4508\n",
            "relevent_experience          0\n",
            "enrolled_university        386\n",
            "education_level            460\n",
            "major_discipline          2813\n",
            "experience                  65\n",
            "company_size              5938\n",
            "company_type              6140\n",
            "last_new_job               423\n",
            "training_hours               0\n",
            "target                       0\n",
            "dtype: int64\n"
          ]
        }
      ]
    },
    {
      "cell_type": "code",
      "source": [
        "cols_with_nan_data = train_data[['gender', 'enrolled_university', 'major_discipline', 'experience', 'company_size', 'last_new_job', 'company_type', 'education_level']]   \n",
        "colorblind_palette = sns.color_palette(\"colorblind\")\n",
        "\n",
        "for i in cols_with_nan_data:\n",
        "    plt.figure(figsize=(12,6.5)) \n",
        "    plt.title(i, fontsize=15, fontweight='bold', fontname='Helvetica', ha='center')\n",
        "    sns.countplot(data = train_data[i], x = cols_with_nan_data[i], palette=colorblind_palette)\n",
        "    plt.show()"
      ],
      "metadata": {
        "colab": {
          "base_uri": "https://localhost:8080/",
          "height": 1000
        },
        "id": "T_ynFzR5QNGp",
        "outputId": "74b15632-2818-4546-e364-ad38d3c4a369"
      },
      "execution_count": 8,
      "outputs": [
        {
          "output_type": "stream",
          "name": "stderr",
          "text": [
            "WARNING:matplotlib.font_manager:findfont: Font family ['Helvetica'] not found. Falling back to DejaVu Sans.\n"
          ]
        },
        {
          "output_type": "display_data",
          "data": {
            "text/plain": [
              "<Figure size 864x468 with 1 Axes>"
            ],
            "image/png": "[encoded data removed]"
          },
          "metadata": {
            "needs_background": "light"
          }
        },
        {
          "output_type": "display_data",
          "data": {
            "text/plain": [
              "<Figure size 864x468 with 1 Axes>"
            ],
            "image/png": "[encoded data removed]"
          },
          "metadata": {
            "needs_background": "light"
          }
        },
        {
          "output_type": "display_data",
          "data": {
            "text/plain": [
              "<Figure size 864x468 with 1 Axes>"
            ],
            "image/png": "[encoded data removed]"
          },
          "metadata": {
            "needs_background": "light"
          }
        },
        {
          "output_type": "display_data",
          "data": {
            "text/plain": [
              "<Figure size 864x468 with 1 Axes>"
            ],
            "image/png": "[encoded data removed]"
          },
          "metadata": {
            "needs_background": "light"
          }
        },
        {
          "output_type": "display_data",
          "data": {
            "text/plain": [
              "<Figure size 864x468 with 1 Axes>"
            ],
            "image/png": "[encoded data removed]"
          },
          "metadata": {
            "needs_background": "light"
          }
        },
        {
          "output_type": "display_data",
          "data": {
            "text/plain": [
              "<Figure size 864x468 with 1 Axes>"
            ],
            "image/png": "[encoded data removed]"
          },
          "metadata": {
            "needs_background": "light"
          }
        },
        {
          "output_type": "display_data",
          "data": {
            "text/plain": [
              "<Figure size 864x468 with 1 Axes>"
            ],
            "image/png": "[encoded data removed]"
          },
          "metadata": {
            "needs_background": "light"
          }
        },
        {
          "output_type": "display_data",
          "data": {
            "text/plain": [
              "<Figure size 864x468 with 1 Axes>"
            ],
            "image/png": "[encoded data removed]"
          },
          "metadata": {
            "needs_background": "light"
          }
        }
      ]
    },
    {
      "cell_type": "code",
      "source": [
        "plt.figure(figsize=(12,6))\n",
        "plt.title(\"Imbalanced target variable\", fontsize=15, fontweight='bold', fontname='Helvetica', ha='center')\n",
        "ax = sns.countplot(x='target', data=train_data)"
      ],
      "metadata": {
        "colab": {
          "base_uri": "https://localhost:8080/",
          "height": 406
        },
        "id": "Sx9QVG4TQQAO",
        "outputId": "3c5b34fd-756d-4107-a3c6-3158d65e0703"
      },
      "execution_count": 9,
      "outputs": [
        {
          "output_type": "display_data",
          "data": {
            "text/plain": [
              "<Figure size 864x432 with 1 Axes>"
            ],
            "image/png": "[encoded data removed]"
          },
          "metadata": {
            "needs_background": "light"
          }
        }
      ]
    },
    {
      "cell_type": "code",
      "source": [
        "data=train_data\n",
        "data.shape"
      ],
      "metadata": {
        "colab": {
          "base_uri": "https://localhost:8080/"
        },
        "id": "Y39feSg_QSvr",
        "outputId": "44a3ec00-22ea-4d00-d20e-66a99538e1bb"
      },
      "execution_count": 10,
      "outputs": [
        {
          "output_type": "execute_result",
          "data": {
            "text/plain": [
              "(19158, 14)"
            ]
          },
          "metadata": {},
          "execution_count": 10
        }
      ]
    },
    {
      "cell_type": "code",
      "source": [
        "  data['city'] = data['city'].str.split(\"_\",expand=True)[1].astype('int64')\n",
        "data['gender'] = data['gender'].replace(np.nan, 'Male')\n",
        "data['enrolled_university'] = data['enrolled_university'].replace(np.nan, 'no_enrollment')\n",
        "data['education_level'] = data['education_level'].replace(np.nan,'Graduate')\n",
        "data['major_discipline'] = data['major_discipline'].replace(np.nan,'STEM')\n",
        "data['experience'] = data['experience'].replace(np.nan,'>20')\n",
        "data['company_size'] = data['company_size'].replace(np.nan,'50-99')\n",
        "data['company_type'] = data['company_type'].replace(np.nan,'Pvt Ltd')\n",
        "data['last_new_job'] = data['last_new_job'].replace(np.nan,'1')"
      ],
      "metadata": {
        "id": "Rgn7Jv6kQUeP"
      },
      "execution_count": 11,
      "outputs": []
    },
    {
      "cell_type": "code",
      "source": [
        "  data = data[data.gender != 'Other']\n"
      ],
      "metadata": {
        "id": "QR5PdFtuQWh4"
      },
      "execution_count": 12,
      "outputs": []
    },
    {
      "cell_type": "code",
      "source": [
        "  data.shape\n"
      ],
      "metadata": {
        "colab": {
          "base_uri": "https://localhost:8080/"
        },
        "id": "1ds9yBpFQYHa",
        "outputId": "fa69fb35-9454-476c-d184-255d57432fc7"
      },
      "execution_count": 13,
      "outputs": [
        {
          "output_type": "execute_result",
          "data": {
            "text/plain": [
              "(18967, 14)"
            ]
          },
          "metadata": {},
          "execution_count": 13
        }
      ]
    },
    {
      "cell_type": "code",
      "source": [
        "data.info()\n"
      ],
      "metadata": {
        "colab": {
          "base_uri": "https://localhost:8080/"
        },
        "id": "bs4CH4RAQawC",
        "outputId": "f0990f20-f6c8-404e-ed37-7b5edad49f5b"
      },
      "execution_count": 14,
      "outputs": [
        {
          "output_type": "stream",
          "name": "stdout",
          "text": [
            "<class 'pandas.core.frame.DataFrame'>\n",
            "Int64Index: 18967 entries, 0 to 19157\n",
            "Data columns (total 14 columns):\n",
            " #   Column                  Non-Null Count  Dtype  \n",
            "---  ------                  --------------  -----  \n",
            " 0   enrollee_id             18967 non-null  int64  \n",
            " 1   city                    18967 non-null  int64  \n",
            " 2   city_development_index  18967 non-null  float64\n",
            " 3   gender                  18967 non-null  object \n",
            " 4   relevent_experience     18967 non-null  object \n",
            " 5   enrolled_university     18967 non-null  object \n",
            " 6   education_level         18967 non-null  object \n",
            " 7   major_discipline        18967 non-null  object \n",
            " 8   experience              18967 non-null  object \n",
            " 9   company_size            18967 non-null  object \n",
            " 10  company_type            18967 non-null  object \n",
            " 11  last_new_job            18967 non-null  object \n",
            " 12  training_hours          18967 non-null  int64  \n",
            " 13  target                  18967 non-null  int64  \n",
            "dtypes: float64(1), int64(4), object(9)\n",
            "memory usage: 2.2+ MB\n"
          ]
        }
      ]
    },
    {
      "cell_type": "code",
      "source": [
        "\n",
        "pd.options.mode.chained_assignment = None\n",
        "ordinal_atributes = ['education_level', 'experience', 'company_size', 'last_new_job']\n",
        "\n",
        "cardinal_atributes = ['gender', 'relevent_experience', 'enrolled_university', 'major_discipline', 'company_type']\n",
        "\n",
        "ordinal_pipeline = Pipeline([\n",
        "    ('OrdinalEncoder',OrdinalEncoder(categories=[\n",
        "                                    ['Unknown', 'Primary School',  'High School', 'Graduate', 'Masters', 'Phd'],\n",
        "                                    'Unknown,<1,1,2,3,4,5,6,7,8,9,10,11,12,13,14,15,16,17,18,19,20,>20'.split(','),\n",
        "                                    ['Unknown','<10', '10/49', '50-99','Oct-49', '100-500', '500-999' ,'1000-4999', '5000-9999', '10000+'],\n",
        "                                    ['Unknown','1', '2', '3', '4', '>4', 'never']\n",
        "                                ]))\n",
        "])\n",
        "\n",
        "ordinal_pipeline.fit(data[ordinal_atributes])\n",
        "data[ordinal_atributes] = ordinal_pipeline.transform(data[ordinal_atributes])\n",
        "data = pd.get_dummies(data, columns=cardinal_atributes)\n",
        "data.head()"
      ],
      "metadata": {
        "colab": {
          "base_uri": "https://localhost:8080/",
          "height": 317
        },
        "id": "F8K1ph-YQcfD",
        "outputId": "9e8639d8-3dde-493f-f947-6cc591e25a4c"
      },
      "execution_count": 15,
      "outputs": [
        {
          "output_type": "execute_result",
          "data": {
            "text/plain": [
              "   enrollee_id  city  city_development_index  education_level  experience  \\\n",
              "0         8949   103                   0.920              3.0        22.0   \n",
              "1        29725    40                   0.776              3.0        16.0   \n",
              "2        11561    21                   0.624              3.0         6.0   \n",
              "3        33241   115                   0.789              3.0         1.0   \n",
              "4          666   162                   0.767              4.0        22.0   \n",
              "\n",
              "   company_size  last_new_job  training_hours  target  gender_Female  ...  \\\n",
              "0           3.0           1.0              36       1              0  ...   \n",
              "1           3.0           5.0              47       0              0  ...   \n",
              "2           3.0           6.0              83       0              0  ...   \n",
              "3           3.0           6.0              52       1              0  ...   \n",
              "4           3.0           4.0               8       0              0  ...   \n",
              "\n",
              "   major_discipline_Humanities  major_discipline_No Major  \\\n",
              "0                            0                          0   \n",
              "1                            0                          0   \n",
              "2                            0                          0   \n",
              "3                            0                          0   \n",
              "4                            0                          0   \n",
              "\n",
              "   major_discipline_Other  major_discipline_STEM  \\\n",
              "0                       0                      1   \n",
              "1                       0                      1   \n",
              "2                       0                      1   \n",
              "3                       0                      0   \n",
              "4                       0                      1   \n",
              "\n",
              "   company_type_Early Stage Startup  company_type_Funded Startup  \\\n",
              "0                                 0                            0   \n",
              "1                                 0                            0   \n",
              "2                                 0                            0   \n",
              "3                                 0                            0   \n",
              "4                                 0                            1   \n",
              "\n",
              "   company_type_NGO  company_type_Other  company_type_Public Sector  \\\n",
              "0                 0                   0                           0   \n",
              "1                 0                   0                           0   \n",
              "2                 0                   0                           0   \n",
              "3                 0                   0                           0   \n",
              "4                 0                   0                           0   \n",
              "\n",
              "   company_type_Pvt Ltd  \n",
              "0                     1  \n",
              "1                     1  \n",
              "2                     1  \n",
              "3                     1  \n",
              "4                     0  \n",
              "\n",
              "[5 rows x 28 columns]"
            ],
            "text/html": [
              "\n",
              "  <div id=\"df-1221048e-9b77-4a3f-87bb-06999192c9a9\">\n",
              "    <div class=\"colab-df-container\">\n",
              "      <div>\n",
              "<style scoped>\n",
              "    .dataframe tbody tr th:only-of-type {\n",
              "        vertical-align: middle;\n",
              "    }\n",
              "\n",
              "    .dataframe tbody tr th {\n",
              "        vertical-align: top;\n",
              "    }\n",
              "\n",
              "    .dataframe thead th {\n",
              "        text-align: right;\n",
              "    }\n",
              "</style>\n",
              "<table border=\"1\" class=\"dataframe\">\n",
              "  <thead>\n",
              "    <tr style=\"text-align: right;\">\n",
              "      <th></th>\n",
              "      <th>enrollee_id</th>\n",
              "      <th>city</th>\n",
              "      <th>city_development_index</th>\n",
              "      <th>education_level</th>\n",
              "      <th>experience</th>\n",
              "      <th>company_size</th>\n",
              "      <th>last_new_job</th>\n",
              "      <th>training_hours</th>\n",
              "      <th>target</th>\n",
              "      <th>gender_Female</th>\n",
              "      <th>...</th>\n",
              "      <th>major_discipline_Humanities</th>\n",
              "      <th>major_discipline_No Major</th>\n",
              "      <th>major_discipline_Other</th>\n",
              "      <th>major_discipline_STEM</th>\n",
              "      <th>company_type_Early Stage Startup</th>\n",
              "      <th>company_type_Funded Startup</th>\n",
              "      <th>company_type_NGO</th>\n",
              "      <th>company_type_Other</th>\n",
              "      <th>company_type_Public Sector</th>\n",
              "      <th>company_type_Pvt Ltd</th>\n",
              "    </tr>\n",
              "  </thead>\n",
              "  <tbody>\n",
              "    <tr>\n",
              "      <th>0</th>\n",
              "      <td>8949</td>\n",
              "      <td>103</td>\n",
              "      <td>0.920</td>\n",
              "      <td>3.0</td>\n",
              "      <td>22.0</td>\n",
              "      <td>3.0</td>\n",
              "      <td>1.0</td>\n",
              "      <td>36</td>\n",
              "      <td>1</td>\n",
              "      <td>0</td>\n",
              "      <td>...</td>\n",
              "      <td>0</td>\n",
              "      <td>0</td>\n",
              "      <td>0</td>\n",
              "      <td>1</td>\n",
              "      <td>0</td>\n",
              "      <td>0</td>\n",
              "      <td>0</td>\n",
              "      <td>0</td>\n",
              "      <td>0</td>\n",
              "      <td>1</td>\n",
              "    </tr>\n",
              "    <tr>\n",
              "      <th>1</th>\n",
              "      <td>29725</td>\n",
              "      <td>40</td>\n",
              "      <td>0.776</td>\n",
              "      <td>3.0</td>\n",
              "      <td>16.0</td>\n",
              "      <td>3.0</td>\n",
              "      <td>5.0</td>\n",
              "      <td>47</td>\n",
              "      <td>0</td>\n",
              "      <td>0</td>\n",
              "      <td>...</td>\n",
              "      <td>0</td>\n",
              "      <td>0</td>\n",
              "      <td>0</td>\n",
              "      <td>1</td>\n",
              "      <td>0</td>\n",
              "      <td>0</td>\n",
              "      <td>0</td>\n",
              "      <td>0</td>\n",
              "      <td>0</td>\n",
              "      <td>1</td>\n",
              "    </tr>\n",
              "    <tr>\n",
              "      <th>2</th>\n",
              "      <td>11561</td>\n",
              "      <td>21</td>\n",
              "      <td>0.624</td>\n",
              "      <td>3.0</td>\n",
              "      <td>6.0</td>\n",
              "      <td>3.0</td>\n",
              "      <td>6.0</td>\n",
              "      <td>83</td>\n",
              "      <td>0</td>\n",
              "      <td>0</td>\n",
              "      <td>...</td>\n",
              "      <td>0</td>\n",
              "      <td>0</td>\n",
              "      <td>0</td>\n",
              "      <td>1</td>\n",
              "      <td>0</td>\n",
              "      <td>0</td>\n",
              "      <td>0</td>\n",
              "      <td>0</td>\n",
              "      <td>0</td>\n",
              "      <td>1</td>\n",
              "    </tr>\n",
              "    <tr>\n",
              "      <th>3</th>\n",
              "      <td>33241</td>\n",
              "      <td>115</td>\n",
              "      <td>0.789</td>\n",
              "      <td>3.0</td>\n",
              "      <td>1.0</td>\n",
              "      <td>3.0</td>\n",
              "      <td>6.0</td>\n",
              "      <td>52</td>\n",
              "      <td>1</td>\n",
              "      <td>0</td>\n",
              "      <td>...</td>\n",
              "      <td>0</td>\n",
              "      <td>0</td>\n",
              "      <td>0</td>\n",
              "      <td>0</td>\n",
              "      <td>0</td>\n",
              "      <td>0</td>\n",
              "      <td>0</td>\n",
              "      <td>0</td>\n",
              "      <td>0</td>\n",
              "      <td>1</td>\n",
              "    </tr>\n",
              "    <tr>\n",
              "      <th>4</th>\n",
              "      <td>666</td>\n",
              "      <td>162</td>\n",
              "      <td>0.767</td>\n",
              "      <td>4.0</td>\n",
              "      <td>22.0</td>\n",
              "      <td>3.0</td>\n",
              "      <td>4.0</td>\n",
              "      <td>8</td>\n",
              "      <td>0</td>\n",
              "      <td>0</td>\n",
              "      <td>...</td>\n",
              "      <td>0</td>\n",
              "      <td>0</td>\n",
              "      <td>0</td>\n",
              "      <td>1</td>\n",
              "      <td>0</td>\n",
              "      <td>1</td>\n",
              "      <td>0</td>\n",
              "      <td>0</td>\n",
              "      <td>0</td>\n",
              "      <td>0</td>\n",
              "    </tr>\n",
              "  </tbody>\n",
              "</table>\n",
              "<p>5 rows × 28 columns</p>\n",
              "</div>\n",
              "      <button class=\"colab-df-convert\" onclick=\"convertToInteractive('df-1221048e-9b77-4a3f-87bb-06999192c9a9')\"\n",
              "              title=\"Convert this dataframe to an interactive table.\"\n",
              "              style=\"display:none;\">\n",
              "        \n",
              "  <svg xmlns=\"http://www.w3.org/2000/svg\" height=\"24px\"viewBox=\"0 0 24 24\"\n",
              "       width=\"24px\">\n",
              "    <path d=\"M0 0h24v24H0V0z\" fill=\"none\"/>\n",
              "    <path d=\"M18.56 5.44l.94 2.06.94-2.06 2.06-.94-2.06-.94-.94-2.06-.94 2.06-2.06.94zm-11 1L8.5 8.5l.94-2.06 2.06-.94-2.06-.94L8.5 2.5l-.94 2.06-2.06.94zm10 10l.94 2.06.94-2.06 2.06-.94-2.06-.94-.94-2.06-.94 2.06-2.06.94z\"/><path d=\"M17.41 7.96l-1.37-1.37c-.4-.4-.92-.59-1.43-.59-.52 0-1.04.2-1.43.59L10.3 9.45l-7.72 7.72c-.78.78-.78 2.05 0 2.83L4 21.41c.39.39.9.59 1.41.59.51 0 1.02-.2 1.41-.59l7.78-7.78 2.81-2.81c.8-.78.8-2.07 0-2.86zM5.41 20L4 18.59l7.72-7.72 1.47 1.35L5.41 20z\"/>\n",
              "  </svg>\n",
              "      </button>\n",
              "      \n",
              "  <style>\n",
              "    .colab-df-container {\n",
              "      display:flex;\n",
              "      flex-wrap:wrap;\n",
              "      gap: 12px;\n",
              "    }\n",
              "\n",
              "    .colab-df-convert {\n",
              "      background-color: #E8F0FE;\n",
              "      border: none;\n",
              "      border-radius: 50%;\n",
              "      cursor: pointer;\n",
              "      display: none;\n",
              "      fill: #1967D2;\n",
              "      height: 32px;\n",
              "      padding: 0 0 0 0;\n",
              "      width: 32px;\n",
              "    }\n",
              "\n",
              "    .colab-df-convert:hover {\n",
              "      background-color: #E2EBFA;\n",
              "      box-shadow: 0px 1px 2px rgba(60, 64, 67, 0.3), 0px 1px 3px 1px rgba(60, 64, 67, 0.15);\n",
              "      fill: #174EA6;\n",
              "    }\n",
              "\n",
              "    [theme=dark] .colab-df-convert {\n",
              "      background-color: #3B4455;\n",
              "      fill: #D2E3FC;\n",
              "    }\n",
              "\n",
              "    [theme=dark] .colab-df-convert:hover {\n",
              "      background-color: #434B5C;\n",
              "      box-shadow: 0px 1px 3px 1px rgba(0, 0, 0, 0.15);\n",
              "      filter: drop-shadow(0px 1px 2px rgba(0, 0, 0, 0.3));\n",
              "      fill: #FFFFFF;\n",
              "    }\n",
              "  </style>\n",
              "\n",
              "      <script>\n",
              "        const buttonEl =\n",
              "          document.querySelector('#df-1221048e-9b77-4a3f-87bb-06999192c9a9 button.colab-df-convert');\n",
              "        buttonEl.style.display =\n",
              "          google.colab.kernel.accessAllowed ? 'block' : 'none';\n",
              "\n",
              "        async function convertToInteractive(key) {\n",
              "          const element = document.querySelector('#df-1221048e-9b77-4a3f-87bb-06999192c9a9');\n",
              "          const dataTable =\n",
              "            await google.colab.kernel.invokeFunction('convertToInteractive',\n",
              "                                                     [key], {});\n",
              "          if (!dataTable) return;\n",
              "\n",
              "          const docLinkHtml = 'Like what you see? Visit the ' +\n",
              "            '<a target=\"_blank\" href=https://colab.research.google.com/notebooks/data_table.ipynb>data table notebook</a>'\n",
              "            + ' to learn more about interactive tables.';\n",
              "          element.innerHTML = '';\n",
              "          dataTable['output_type'] = 'display_data';\n",
              "          await google.colab.output.renderOutput(dataTable, element);\n",
              "          const docLink = document.createElement('div');\n",
              "          docLink.innerHTML = docLinkHtml;\n",
              "          element.appendChild(docLink);\n",
              "        }\n",
              "      </script>\n",
              "    </div>\n",
              "  </div>\n",
              "  "
            ]
          },
          "metadata": {},
          "execution_count": 15
        }
      ]
    },
    {
      "cell_type": "code",
      "source": [
        "data.info()\n"
      ],
      "metadata": {
        "colab": {
          "base_uri": "https://localhost:8080/"
        },
        "id": "KbDc99YZQf_L",
        "outputId": "c5cfdfc4-5573-44b2-8813-0df5745f3377"
      },
      "execution_count": 16,
      "outputs": [
        {
          "output_type": "stream",
          "name": "stdout",
          "text": [
            "<class 'pandas.core.frame.DataFrame'>\n",
            "Int64Index: 18967 entries, 0 to 19157\n",
            "Data columns (total 28 columns):\n",
            " #   Column                                       Non-Null Count  Dtype  \n",
            "---  ------                                       --------------  -----  \n",
            " 0   enrollee_id                                  18967 non-null  int64  \n",
            " 1   city                                         18967 non-null  int64  \n",
            " 2   city_development_index                       18967 non-null  float64\n",
            " 3   education_level                              18967 non-null  float64\n",
            " 4   experience                                   18967 non-null  float64\n",
            " 5   company_size                                 18967 non-null  float64\n",
            " 6   last_new_job                                 18967 non-null  float64\n",
            " 7   training_hours                               18967 non-null  int64  \n",
            " 8   target                                       18967 non-null  int64  \n",
            " 9   gender_Female                                18967 non-null  uint8  \n",
            " 10  gender_Male                                  18967 non-null  uint8  \n",
            " 11  relevent_experience_Has relevent experience  18967 non-null  uint8  \n",
            " 12  relevent_experience_No relevent experience   18967 non-null  uint8  \n",
            " 13  enrolled_university_Full time course         18967 non-null  uint8  \n",
            " 14  enrolled_university_Part time course         18967 non-null  uint8  \n",
            " 15  enrolled_university_no_enrollment            18967 non-null  uint8  \n",
            " 16  major_discipline_Arts                        18967 non-null  uint8  \n",
            " 17  major_discipline_Business Degree             18967 non-null  uint8  \n",
            " 18  major_discipline_Humanities                  18967 non-null  uint8  \n",
            " 19  major_discipline_No Major                    18967 non-null  uint8  \n",
            " 20  major_discipline_Other                       18967 non-null  uint8  \n",
            " 21  major_discipline_STEM                        18967 non-null  uint8  \n",
            " 22  company_type_Early Stage Startup             18967 non-null  uint8  \n",
            " 23  company_type_Funded Startup                  18967 non-null  uint8  \n",
            " 24  company_type_NGO                             18967 non-null  uint8  \n",
            " 25  company_type_Other                           18967 non-null  uint8  \n",
            " 26  company_type_Public Sector                   18967 non-null  uint8  \n",
            " 27  company_type_Pvt Ltd                         18967 non-null  uint8  \n",
            "dtypes: float64(5), int64(4), uint8(19)\n",
            "memory usage: 1.8 MB\n"
          ]
        }
      ]
    },
    {
      "cell_type": "code",
      "source": [
        "columns = data.columns.tolist()\n",
        "columns = [c for c in columns if c not in ['target']]\n",
        "y = data['target']\n",
        "X = data[columns]\n",
        "\n",
        "ros = RandomOverSampler(sampling_strategy='minority')\n",
        "X_balanced, y_balanced = ros.fit_resample(X, y)\n",
        "print(f\"Imbalanced target class: {Counter(y)}\\n\\nBalanced target class: {Counter(y_balanced)}\\n\")\n",
        "print(X_balanced.shape[0] - data.shape[0], 'new random picked points')"
      ],
      "metadata": {
        "colab": {
          "base_uri": "https://localhost:8080/"
        },
        "id": "H_aocVZsQhos",
        "outputId": "2bdc19ab-e864-4f8b-8315-ae1023b214c4"
      },
      "execution_count": 17,
      "outputs": [
        {
          "output_type": "stream",
          "name": "stdout",
          "text": [
            "Imbalanced target class: Counter({0: 14240, 1: 4727})\n",
            "\n",
            "Balanced target class: Counter({1: 14240, 0: 14240})\n",
            "\n",
            "9513 new random picked points\n"
          ]
        }
      ]
    },
    {
      "cell_type": "code",
      "source": [
        "plt.figure(figsize=(12,6))\n",
        "plt.title(\"Balanced target variable\", fontsize=15, fontweight='bold', fontname='Helvetica', ha='center')\n",
        "ax = sns.countplot(x=y_balanced, data=data)\n"
      ],
      "metadata": {
        "colab": {
          "base_uri": "https://localhost:8080/",
          "height": 406
        },
        "id": "IlGKv0a_QkF7",
        "outputId": "d0b460ae-af69-415d-eacd-53804d3baf75"
      },
      "execution_count": 19,
      "outputs": [
        {
          "output_type": "display_data",
          "data": {
            "text/plain": [
              "<Figure size 864x432 with 1 Axes>"
            ],
            "image/png": "[encoded data removed]"
          },
          "metadata": {
            "needs_background": "light"
          }
        }
      ]
    },
    {
      "cell_type": "code",
      "source": [
        "X_ros,X_test,y_ros,y_test = train_test_split(X_balanced, y_balanced,test_size=0.3,random_state=1)\n",
        "X_ros.shape,X_test.shape,y_ros.shape,y_test.shape  "
      ],
      "metadata": {
        "colab": {
          "base_uri": "https://localhost:8080/"
        },
        "id": "h1R8MhSGQmmB",
        "outputId": "3da6fb5b-f5d4-485e-964a-1ecb38b52954"
      },
      "execution_count": 20,
      "outputs": [
        {
          "output_type": "execute_result",
          "data": {
            "text/plain": [
              "((19936, 27), (8544, 27), (19936,), (8544,))"
            ]
          },
          "metadata": {},
          "execution_count": 20
        }
      ]
    },
    {
      "cell_type": "code",
      "source": [
        "knnc = KNeighborsClassifier(n_neighbors=4)\n",
        "knnc.fit(X_ros, y_ros)\n",
        "y_pred_knnc = knnc.predict(X_test)\n",
        "\n",
        "print(classification_report(y_test, y_pred_knnc))\n",
        "print(\"Accuracy score of KNN : {:.2f}\".format(accuracy_score(y_pred_knnc,y_test)))\n",
        "print(\"Recall score of KNN: {:.2f}\".format(recall_score(y_pred_knnc,y_test,average='macro',zero_division=True)))\n",
        "print(\"Precision score of KNN: {:.2f}\".format(precision_score(y_pred_knnc,y_test,zero_division = True)))\n",
        "print(\"F1 score of KNN: {:.2f}\".format(f1_score(y_pred_knnc,y_test,zero_division=True)))"
      ],
      "metadata": {
        "colab": {
          "base_uri": "https://localhost:8080/"
        },
        "id": "uG375lilQsE5",
        "outputId": "79b3ebb8-522c-4436-fb32-7bf58c14d7d8"
      },
      "execution_count": 21,
      "outputs": [
        {
          "output_type": "stream",
          "name": "stdout",
          "text": [
            "              precision    recall  f1-score   support\n",
            "\n",
            "           0       0.66      0.69      0.67      4232\n",
            "           1       0.68      0.64      0.66      4312\n",
            "\n",
            "    accuracy                           0.67      8544\n",
            "   macro avg       0.67      0.67      0.67      8544\n",
            "weighted avg       0.67      0.67      0.67      8544\n",
            "\n",
            "Accuracy score of KNN : 0.67\n",
            "Recall score of KNN: 0.67\n",
            "Precision score of KNN: 0.64\n",
            "F1 score of KNN: 0.66\n"
          ]
        }
      ]
    },
    {
      "cell_type": "code",
      "source": [
        "params = {'n_neighbors': np.arange(1, 31, 2), \"metric\": [\"euclidean\"]}\n",
        "grid_search_cv = GridSearchCV(KNeighborsClassifier(), params, verbose=1, cv=3)\n",
        "grid_search_cv.fit(X_ros, y_ros)\n",
        "# returns the best model\n",
        "grid_search_cv.best_estimator_\n",
        "# the best parameters\n",
        "grid_search_cv.best_params_\n",
        "# results obtained by the best model\n",
        "knn_accuracy = grid_search_cv.best_score_ \n",
        "print('The accuracy score with using the tuned KNN is: ', knn_accuracy)"
      ],
      "metadata": {
        "colab": {
          "base_uri": "https://localhost:8080/"
        },
        "id": "bK5mouuUQu0M",
        "outputId": "3c47b4a4-e68e-497a-f904-6b2d8f0385d7"
      },
      "execution_count": 22,
      "outputs": [
        {
          "output_type": "stream",
          "name": "stdout",
          "text": [
            "Fitting 3 folds for each of 15 candidates, totalling 45 fits\n",
            "The accuracy score with using the tuned KNN is:  0.7583267270751519\n"
          ]
        }
      ]
    },
    {
      "cell_type": "code",
      "source": [
        "plot_roc_curve(grid_search_cv, X_test, y_test)"
      ],
      "metadata": {
        "colab": {
          "base_uri": "https://localhost:8080/",
          "height": 296
        },
        "id": "UN-NEov9QyrA",
        "outputId": "47441741-34a8-41a8-9db0-d38e6642c69b"
      },
      "execution_count": 23,
      "outputs": [
        {
          "output_type": "execute_result",
          "data": {
            "text/plain": [
              "<sklearn.metrics._plot.roc_curve.RocCurveDisplay at 0x7f9fc5c00e50>"
            ]
          },
          "metadata": {},
          "execution_count": 23
        },
        {
          "output_type": "display_data",
          "data": {
            "text/plain": [
              "<Figure size 432x288 with 1 Axes>"
            ],
            "image/png": "[encoded data removed]"
          },
          "metadata": {
            "needs_background": "light"
          }
        }
      ]
    },
    {
      "cell_type": "code",
      "source": [
        "dtc = DecisionTreeClassifier(max_depth = 3, random_state=0)\n",
        "dtc.fit(X_ros, y_ros)\n",
        "y_pred_dtc = dtc.predict(X_test)\n",
        "#metrics.accuracy_score(y_test, y_pred_dtc)\n",
        "\n",
        "print(classification_report(y_test, y_pred_dtc))\n",
        "print(\"Accuracy score of Decision tree : {:.2f}\".format(accuracy_score(y_pred_dtc,y_test)))\n",
        "print(\"Recall score of Decision tree: {:.2f}\".format(recall_score(y_pred_dtc,y_test,average='macro',zero_division=True)))\n",
        "print(\"Precision score of Decision tree: {:.2f}\".format(precision_score(y_pred_dtc,y_test,zero_division = True)))\n",
        "print(\"F1 score of Decision tree: {:.2f}\".format(f1_score(y_pred_dtc,y_test,zero_division=True)))"
      ],
      "metadata": {
        "colab": {
          "base_uri": "https://localhost:8080/"
        },
        "id": "gptcf4ShQ0gx",
        "outputId": "f50ae0fe-0d4c-4b7c-c1f1-d63e32e4f020"
      },
      "execution_count": 24,
      "outputs": [
        {
          "output_type": "stream",
          "name": "stdout",
          "text": [
            "              precision    recall  f1-score   support\n",
            "\n",
            "           0       0.75      0.52      0.61      4232\n",
            "           1       0.64      0.83      0.72      4312\n",
            "\n",
            "    accuracy                           0.68      8544\n",
            "   macro avg       0.69      0.67      0.67      8544\n",
            "weighted avg       0.69      0.68      0.67      8544\n",
            "\n",
            "Accuracy score of Decision tree : 0.68\n",
            "Recall score of Decision tree: 0.69\n",
            "Precision score of Decision tree: 0.83\n",
            "F1 score of Decision tree: 0.72\n"
          ]
        }
      ]
    },
    {
      "cell_type": "code",
      "source": [
        "params = {'max_leaf_nodes': list(range(2, 100)), 'min_samples_split': [2, 3, 4]}\n",
        "grid_search_cv = GridSearchCV(DecisionTreeClassifier(random_state=42), params, verbose=1, cv=3)\n",
        "grid_search_cv.fit(X_ros, y_ros)\n",
        "# returns the best model\n",
        "grid_search_cv.best_estimator_\n",
        "# the best parameters\n",
        "grid_search_cv.best_params_\n",
        "# results obtained by the best model\n",
        "dt_accuracy = grid_search_cv.best_score_ \n",
        "print('The accuracy score with using the tuned decision tree classifier is: ', dt_accuracy)"
      ],
      "metadata": {
        "colab": {
          "base_uri": "https://localhost:8080/"
        },
        "id": "kppbadrKQ2el",
        "outputId": "9582c47f-ede6-4715-aca3-7c114e698b34"
      },
      "execution_count": 25,
      "outputs": [
        {
          "output_type": "stream",
          "name": "stdout",
          "text": [
            "Fitting 3 folds for each of 294 candidates, totalling 882 fits\n",
            "The accuracy score with using the tuned decision tree classifier is:  0.7496987614199956\n"
          ]
        }
      ]
    },
    {
      "cell_type": "code",
      "source": [
        "plot_roc_curve(grid_search_cv, X_test, y_test)\n"
      ],
      "metadata": {
        "colab": {
          "base_uri": "https://localhost:8080/",
          "height": 296
        },
        "id": "oy3aTyX5RQCq",
        "outputId": "57702cd0-b4c7-45fa-9f42-42bf1ca3ad45"
      },
      "execution_count": 26,
      "outputs": [
        {
          "output_type": "execute_result",
          "data": {
            "text/plain": [
              "<sklearn.metrics._plot.roc_curve.RocCurveDisplay at 0x7f9fc5e26110>"
            ]
          },
          "metadata": {},
          "execution_count": 26
        },
        {
          "output_type": "display_data",
          "data": {
            "text/plain": [
              "<Figure size 432x288 with 1 Axes>"
            ],
            "image/png": "[encoded data removed]"
          },
          "metadata": {
            "needs_background": "light"
          }
        }
      ]
    },
    {
      "cell_type": "code",
      "source": [
        "rfc = RandomForestClassifier(n_estimators = 50, class_weight = {0:1, 1:4})\n",
        "rfc.fit(X_ros, y_ros)\n",
        "y_pred_rfc = rfc.predict(X_test)\n",
        "\n",
        "print(classification_report(y_test, y_pred_rfc))\n",
        "print(\"Accuracy score of Random forest : {:.2f}\".format(accuracy_score(y_pred_rfc,y_test)))\n",
        "print(\"Recall score of Random forest : {:.2f}\".format(recall_score(y_pred_rfc,y_test,average='macro',zero_division=True)))\n",
        "print(\"Precision score of Random forest : {:.2f}\".format(precision_score(y_pred_rfc,y_test,zero_division = True)))\n",
        "print(\"F1 score of Random forest : {:.2f}\".format(f1_score(y_pred_rfc,y_test,zero_division=True)))"
      ],
      "metadata": {
        "colab": {
          "base_uri": "https://localhost:8080/"
        },
        "id": "gC2TqvmcRSHv",
        "outputId": "b50f3e09-d7cc-46c3-985c-23703502c6f1"
      },
      "execution_count": 27,
      "outputs": [
        {
          "output_type": "stream",
          "name": "stdout",
          "text": [
            "              precision    recall  f1-score   support\n",
            "\n",
            "           0       0.93      0.83      0.88      4232\n",
            "           1       0.85      0.94      0.89      4312\n",
            "\n",
            "    accuracy                           0.88      8544\n",
            "   macro avg       0.89      0.88      0.88      8544\n",
            "weighted avg       0.89      0.88      0.88      8544\n",
            "\n",
            "Accuracy score of Random forest : 0.88\n",
            "Recall score of Random forest : 0.89\n",
            "Precision score of Random forest : 0.94\n",
            "F1 score of Random forest : 0.89\n"
          ]
        }
      ]
    },
    {
      "cell_type": "code",
      "source": [
        "params = {'max_leaf_nodes': list(range(2, 20)), 'min_samples_split': [2, 3, 4]}\n",
        "grid_search_cv = GridSearchCV(RandomForestClassifier(random_state=42), params, verbose=1, cv=3)\n",
        "grid_search_cv.fit(X_ros, y_ros)\n",
        "\n",
        "grid_search_cv.best_estimator_\n",
        "grid_search_cv.best_params_\n",
        "rf_accuracy = grid_search_cv.best_score_ \n",
        "print('The accuracy score with using the tuned Random Forest is :',rf_accuracy)"
      ],
      "metadata": {
        "colab": {
          "base_uri": "https://localhost:8080/"
        },
        "id": "oRa5BN7hRYaQ",
        "outputId": "43b99b85-d2ec-4045-bf45-0e15d8d2ffef"
      },
      "execution_count": 28,
      "outputs": [
        {
          "output_type": "stream",
          "name": "stdout",
          "text": [
            "Fitting 3 folds for each of 54 candidates, totalling 162 fits\n",
            "The accuracy score with using the tuned Random Forest is : 0.7255713026408955\n"
          ]
        }
      ]
    },
    {
      "cell_type": "code",
      "source": [
        "plot_roc_curve(grid_search_cv, X_test, y_test)\n"
      ],
      "metadata": {
        "colab": {
          "base_uri": "https://localhost:8080/",
          "height": 296
        },
        "id": "9vsTHm_ARl0N",
        "outputId": "10899d74-169f-4226-c956-2daaa4d71d42"
      },
      "execution_count": 29,
      "outputs": [
        {
          "output_type": "execute_result",
          "data": {
            "text/plain": [
              "<sklearn.metrics._plot.roc_curve.RocCurveDisplay at 0x7f9fc636cc50>"
            ]
          },
          "metadata": {},
          "execution_count": 29
        },
        {
          "output_type": "display_data",
          "data": {
            "text/plain": [
              "<Figure size 432x288 with 1 Axes>"
            ],
            "image/png": "[encoded data removed]"
          },
          "metadata": {
            "needs_background": "light"
          }
        }
      ]
    },
    {
      "cell_type": "code",
      "source": [
        "xgbc = XGBClassifier(use_label_encoder=False)\n",
        "xgbc.fit(X_ros,y_ros)\n",
        "y_pred_xgbc = xgbc.predict(X_test)\n",
        "xgb_accuracy = accuracy_score(y_test,xgbc.predict(X_test))\n",
        "\n",
        "print(classification_report(y_test, y_pred_xgbc))\n",
        "print(\"Accuracy score of XGBclassifier : {:.2f}\".format(accuracy_score(y_pred_xgbc,y_test)))\n",
        "print(\"Recall score of XGBclassifier : {:.2f}\".format(recall_score(y_pred_xgbc,y_test,average='macro',zero_division=True)))\n",
        "print(\"Precision score of XGBclassifier : {:.2f}\".format(precision_score(y_pred_xgbc,y_test,zero_division = True)))\n",
        "print(\"F1 score of XGBclassifier : {:.2f}\".format(f1_score(y_pred_xgbc,y_test,zero_division=True)))"
      ],
      "metadata": {
        "colab": {
          "base_uri": "https://localhost:8080/"
        },
        "id": "Jas86QBARrFZ",
        "outputId": "e0a839b4-96c4-4537-a602-d7c0af5fa5dc"
      },
      "execution_count": 30,
      "outputs": [
        {
          "output_type": "stream",
          "name": "stdout",
          "text": [
            "              precision    recall  f1-score   support\n",
            "\n",
            "           0       0.76      0.74      0.75      4232\n",
            "           1       0.75      0.77      0.76      4312\n",
            "\n",
            "    accuracy                           0.75      8544\n",
            "   macro avg       0.75      0.75      0.75      8544\n",
            "weighted avg       0.75      0.75      0.75      8544\n",
            "\n",
            "Accuracy score of XGBclassifier : 0.75\n",
            "Recall score of XGBclassifier : 0.75\n",
            "Precision score of XGBclassifier : 0.77\n",
            "F1 score of XGBclassifier : 0.76\n"
          ]
        }
      ]
    },
    {
      "cell_type": "code",
      "source": [
        "plot_roc_curve(xgbc, X_test, y_test)\n",
        "  "
      ],
      "metadata": {
        "colab": {
          "base_uri": "https://localhost:8080/",
          "height": 296
        },
        "id": "xsKqElS3SCcs",
        "outputId": "5ba78e2b-c73b-4bee-f812-08153a43efa4"
      },
      "execution_count": 31,
      "outputs": [
        {
          "output_type": "execute_result",
          "data": {
            "text/plain": [
              "<sklearn.metrics._plot.roc_curve.RocCurveDisplay at 0x7f9fc5c8d3d0>"
            ]
          },
          "metadata": {},
          "execution_count": 31
        },
        {
          "output_type": "display_data",
          "data": {
            "text/plain": [
              "<Figure size 432x288 with 1 Axes>"
            ],
            "image/png": "[encoded data removed]"
          },
          "metadata": {
            "needs_background": "light"
          }
        }
      ]
    },
    {
      "cell_type": "code",
      "source": [
        "accuracies = {\"Decision Tree Accuracy\":dt_accuracy,  \"Random Forest Accuracy\":accuracy_score(y_pred_rfc,y_test), \"XGB Accuracy\":xgb_accuracy, \"KNN Accuracy\":knn_accuracy}\n",
        "print(\"The best score has the model: \", max(accuracies, key=accuracies.get))"
      ],
      "metadata": {
        "colab": {
          "base_uri": "https://localhost:8080/"
        },
        "id": "KbKqMq0VSG6k",
        "outputId": "55c740e1-47c0-4a4c-ae67-72c808be6a2f"
      },
      "execution_count": 32,
      "outputs": [
        {
          "output_type": "stream",
          "name": "stdout",
          "text": [
            "The best score has the model:  Random Forest Accuracy\n"
          ]
        }
      ]
    },
    {
      "cell_type": "code",
      "source": [
        " plt.figure(figsize=(20,10))\n",
        "plt.bar(*zip(*accuracies.items()), color=colorblind_palette, width = 0.8)\n",
        "plt.title(\"Comparison of different models accuracies\")\n",
        "plt.grid(axis = 'y', linewidth = 0.5)\n",
        "plt.show()"
      ],
      "metadata": {
        "colab": {
          "base_uri": "https://localhost:8080/",
          "height": 607
        },
        "id": "bp22VqSaSIqi",
        "outputId": "3f9a5aa3-ea17-49bf-8dfa-85c5ef90ac46"
      },
      "execution_count": 33,
      "outputs": [
        {
          "output_type": "display_data",
          "data": {
            "text/plain": [
              "<Figure size 1440x720 with 1 Axes>"
            ],
            "image/png": "[encoded data removed]"
          },
          "metadata": {
            "needs_background": "light"
          }
        }
      ]
    },
    {
      "cell_type": "code",
      "source": [],
      "metadata": {
        "id": "x2cuwATiSOqQ"
      },
      "execution_count": null,
      "outputs": []
    }
  ]
}